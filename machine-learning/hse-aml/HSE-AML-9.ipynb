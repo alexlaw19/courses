{
 "cells": [
  {
   "cell_type": "code",
   "execution_count": 1,
   "metadata": {
    "slideshow": {
     "slide_type": "skip"
    }
   },
   "outputs": [],
   "source": [
    "%matplotlib inline\n",
    "import matplotlib.pyplot as plt\n",
    "import numpy as np\n",
    "import scipy.optimize as opt\n",
    "import scipy.linalg as linalg\n",
    "import sklearn.linear_model\n",
    "import sklearn.model_selection\n",
    "import pandas as pd\n",
    "from sklearn.datasets.samples_generator import make_blobs, make_moons\n",
    "from sklearn.datasets import load_iris\n",
    "from IPython.display import Markdown as md\n",
    "from sklearn.model_selection import train_test_split\n",
    "from sklearn.datasets import load_breast_cancer\n",
    "from sklearn.metrics import confusion_matrix\n",
    "from sklearn.linear_model import LogisticRegression\n",
    "import warnings\n",
    "warnings.filterwarnings('ignore')"
   ]
  },
  {
   "cell_type": "markdown",
   "metadata": {
    "slideshow": {
     "slide_type": "slide"
    }
   },
   "source": [
    "# Applied Machine Learning\n",
    "\n",
    "## Neural networks"
   ]
  },
  {
   "cell_type": "markdown",
   "metadata": {
    "slideshow": {
     "slide_type": "slide"
    }
   },
   "source": [
    "- There are a few ways to understand neural networks\n",
    "- We will use http://playground.tensorflow.org/\n",
    "- We will use some code in parallel"
   ]
  },
  {
   "cell_type": "markdown",
   "metadata": {
    "slideshow": {
     "slide_type": "slide"
    }
   },
   "source": [
    "### Neuron\n",
    "\n",
    "Usually, a linear model with a non-linearity (activation)"
   ]
  },
  {
   "cell_type": "code",
   "execution_count": 2,
   "metadata": {},
   "outputs": [
    {
     "data": {
      "text/plain": [
       "0.0066928509242848554"
      ]
     },
     "execution_count": 2,
     "metadata": {},
     "output_type": "execute_result"
    }
   ],
   "source": [
    "def sigmoid(x):\n",
    "    return 1.0 / (1.0 + np.exp(-x))\n",
    "\n",
    "def neuron(x, w):\n",
    "    return sigmoid(sum(x_i*w_i for (x_i, w_i) in zip(x, w)))\n",
    "\n",
    "neuron([1.0, -2.0], [3.0, 4.0])"
   ]
  },
  {
   "cell_type": "markdown",
   "metadata": {
    "slideshow": {
     "slide_type": "slide"
    }
   },
   "source": [
    "### Layer\n",
    "\n",
    "A set of neurons"
   ]
  },
  {
   "cell_type": "code",
   "execution_count": 3,
   "metadata": {},
   "outputs": [
    {
     "data": {
      "text/plain": [
       "[0.999983298578152, 0.9999546021312976, 0.8807970779778823]"
      ]
     },
     "execution_count": 3,
     "metadata": {},
     "output_type": "execute_result"
    }
   ],
   "source": [
    "def layer(x, w):\n",
    "    return [neuron(x, w[0]), neuron(x, w[1]), neuron(x, w[2])]\n",
    "\n",
    "layer([1.0, 2.0], [[3.0, 4.0], [4.0, 3.0], [-2.0, 2.0]])"
   ]
  },
  {
   "cell_type": "markdown",
   "metadata": {
    "slideshow": {
     "slide_type": "slide"
    }
   },
   "source": [
    "### Network\n",
    "\n",
    "A set of layers"
   ]
  },
  {
   "cell_type": "code",
   "execution_count": 4,
   "metadata": {},
   "outputs": [
    {
     "data": {
      "text/plain": [
       "[0.38863885494001416, 0.9261862443148056, 0.9758700579418047]"
      ]
     },
     "execution_count": 4,
     "metadata": {},
     "output_type": "execute_result"
    }
   ],
   "source": [
    "def network(x, w):\n",
    "    return layer(layer(x, w[0]), w[1])\n",
    "\n",
    "network(\n",
    "    [1.0, 2.0], \n",
    "    [\n",
    "        [[4.5, -2.5], [5.6, -9.1], [4.1, 5.6]],\n",
    "        [[-1.2, 3.4], [6.7, 2.3], [9.8, -6.7]]\n",
    "    ]\n",
    ")"
   ]
  },
  {
   "cell_type": "markdown",
   "metadata": {
    "slideshow": {
     "slide_type": "slide"
    }
   },
   "source": [
    "### Deep learning\n",
    "\n",
    "- The approach in machine learning based on composition\n",
    "- Introduces hierarchy of representations"
   ]
  },
  {
   "cell_type": "markdown",
   "metadata": {
    "slideshow": {
     "slide_type": "slide"
    }
   },
   "source": [
    "### Optimization\n",
    "\n",
    "- The only parameters are `w` of layers\n",
    "- To cast the problem into optimization we need a target\n",
    "- In optimization we call it the objective function"
   ]
  },
  {
   "cell_type": "markdown",
   "metadata": {
    "slideshow": {
     "slide_type": "slide"
    }
   },
   "source": [
    "### Objective function $L(w)$\n",
    "\n",
    "- For regression we may use squared loss\n",
    "- For classification we usually do log-loss (aka cross-entropy)\n",
    "- We may use any function we want to fit"
   ]
  },
  {
   "cell_type": "markdown",
   "metadata": {
    "slideshow": {
     "slide_type": "slide"
    }
   },
   "source": [
    "### Gradient $\\nabla L(w)$\n",
    "\n",
    "- The function that points in the direction of the greatest rate of increase \n",
    "- Tells us how to make $w$ better\n",
    "- To know the gradient is to know how to solve the problem (most of the time)"
   ]
  },
  {
   "cell_type": "markdown",
   "metadata": {
    "slideshow": {
     "slide_type": "slide"
    }
   },
   "source": [
    "### Gradient descent\n",
    "\n",
    "- Start at random $w_0$\n",
    "- Iterate: $w_{i+1} = w_{i} + \\alpha \\nabla L(w)$\n",
    "- Repeat until converged"
   ]
  },
  {
   "cell_type": "markdown",
   "metadata": {
    "slideshow": {
     "slide_type": "slide"
    }
   },
   "source": [
    "### Chain rule\n",
    "\n",
    "- Consider $f(x) = x^2$, $g(x) = \\sin x$\n",
    "- $\\frac{d}{dx} g(f(x)) = \\frac{d}{dx} g(x) \\times \\frac{d}{dx} f(x) = \\cos x^2 \\times 2 x$\n",
    "- This way one might differentiate (compute gradient) of any function, even neural network"
   ]
  },
  {
   "cell_type": "markdown",
   "metadata": {
    "slideshow": {
     "slide_type": "slide"
    }
   },
   "source": [
    "#### Backpropagation = chain rule + gradient descent"
   ]
  },
  {
   "cell_type": "markdown",
   "metadata": {
    "slideshow": {
     "slide_type": "slide"
    }
   },
   "source": [
    "### Problems\n",
    "\n",
    "- Vanishing gradients: ReLU\n",
    "- Overfitting: dropout, batch normalization, etc\n",
    "- Performance: GPU"
   ]
  },
  {
   "cell_type": "markdown",
   "metadata": {
    "slideshow": {
     "slide_type": "slide"
    }
   },
   "source": [
    "### Keras"
   ]
  },
  {
   "cell_type": "code",
   "execution_count": 7,
   "metadata": {},
   "outputs": [],
   "source": [
    "from tensorflow.keras.models import Sequential\n",
    "from tensorflow.keras.layers import Dense, Dropout\n",
    "from tensorflow.keras.optimizers import RMSprop\n",
    "\n",
    "model = Sequential()\n",
    "model.add(Dense(512, activation='relu', input_shape=(784,)))\n",
    "model.add(Dropout(0.2))\n",
    "model.add(Dense(512, activation='relu'))\n",
    "model.add(Dropout(0.2))\n",
    "model.add(Dense(10, activation='softmax'))"
   ]
  },
  {
   "cell_type": "markdown",
   "metadata": {},
   "source": [
    "For full example see https://github.com/keras-team/keras/blob/master/examples/mnist_mlp.py"
   ]
  }
 ],
 "metadata": {
  "celltoolbar": "Slideshow",
  "kernelspec": {
   "display_name": "Python 3",
   "language": "python",
   "name": "python3"
  },
  "language_info": {
   "codemirror_mode": {
    "name": "ipython",
    "version": 3
   },
   "file_extension": ".py",
   "mimetype": "text/x-python",
   "name": "python",
   "nbconvert_exporter": "python",
   "pygments_lexer": "ipython3",
   "version": "3.6.8"
  }
 },
 "nbformat": 4,
 "nbformat_minor": 2
}
