{
 "cells": [
  {
   "cell_type": "code",
   "execution_count": 7,
   "metadata": {
    "slideshow": {
     "slide_type": "skip"
    }
   },
   "outputs": [],
   "source": [
    "from sys import getrefcount"
   ]
  },
  {
   "cell_type": "markdown",
   "metadata": {
    "slideshow": {
     "slide_type": "slide"
    }
   },
   "source": [
    "# Data science & Python & Machine Learning"
   ]
  },
  {
   "cell_type": "markdown",
   "metadata": {
    "slideshow": {
     "slide_type": "slide"
    }
   },
   "source": [
    "### Цели курса\n",
    "\n",
    "- Заинтересовать\n",
    "- Дать необходимый обзор области\n",
    "- Научить выполнять полный цикл задачи по анализу данных\n",
    "- Приобщить к изучению ML через Kaggle"
   ]
  },
  {
   "cell_type": "markdown",
   "metadata": {
    "slideshow": {
     "slide_type": "slide"
    }
   },
   "source": [
    "### Логистика курса\n",
    "\n",
    "- Вас ждут 8 занятий по 3 часа\n",
    "- В начале каждого занятия мы будем разбирать домашнее задание\n",
    "- Каждый час мы будем делать перерыв\n",
    "- Между занятиями я предложу вам домашние задания\n",
    "- Все материалы будут приходить вам по почте"
   ]
  },
  {
   "cell_type": "markdown",
   "metadata": {
    "slideshow": {
     "slide_type": "slide"
    }
   },
   "source": [
    "### Содержание курса\n",
    "\n",
    "- Введение в Python\n",
    "- Обработка данных и визуализация\n",
    "- Линейные модели \n",
    "- Деревья решений\n",
    "- Нейронные сети"
   ]
  },
  {
   "cell_type": "markdown",
   "metadata": {
    "slideshow": {
     "slide_type": "slide"
    }
   },
   "source": [
    "### Вне курса\n",
    "\n",
    "- Промышленное программирование на Python\n",
    "- Системы контроля версий, работа в команде\n",
    "- Реляционные базы данных\n",
    "- Работа с большими данными\n",
    "- Необязательная на практике теория"
   ]
  },
  {
   "cell_type": "markdown",
   "metadata": {
    "slideshow": {
     "slide_type": "slide"
    }
   },
   "source": [
    "# Python"
   ]
  },
  {
   "cell_type": "markdown",
   "metadata": {
    "slideshow": {
     "slide_type": "slide"
    }
   },
   "source": [
    "### Язык Python\n",
    "\n",
    "- Появился в начале 1990-х\n",
    "- Действительно стал широко использоваться уже ближе к 2010-ым\n",
    "- Интерпретируемый язык\n",
    "- Простой синтаксис\n",
    "- Динамическая (утиная) типизация"
   ]
  },
  {
   "cell_type": "markdown",
   "metadata": {
    "slideshow": {
     "slide_type": "slide"
    }
   },
   "source": [
    "### Распространение\n",
    "\n",
    "- Python в разных целях используют все большие компании: Google, Yandex, Facebook, ...\n",
    "- На Python были запущены такие сервисы как YouTube и Instagram\n",
    "- Основной язык Kaggle — это Python"
   ]
  },
  {
   "cell_type": "markdown",
   "metadata": {
    "slideshow": {
     "slide_type": "slide"
    }
   },
   "source": [
    "###  Zen of Python\n",
    "\n",
    "- Beautiful is better than ugly\n",
    "- Explicit is better than implicit\n",
    "- Readability counts\n",
    "- ..."
   ]
  },
  {
   "cell_type": "markdown",
   "metadata": {
    "slideshow": {
     "slide_type": "slide"
    }
   },
   "source": [
    "### Преимущества\n",
    "\n",
    "- Простой синтаксис и высокая скорость разработки\n",
    "- Кросс-платформенность\n",
    "- Легкая интеграция с С и С++ кодом\n",
    "- Огромное число библиотек: http://pypi.python.org/"
   ]
  },
  {
   "cell_type": "markdown",
   "metadata": {
    "slideshow": {
     "slide_type": "slide"
    }
   },
   "source": [
    "### Недостатки\n",
    "\n",
    "- Производительность ниже, чем в компилируемых языках\n",
    "- Динамическая типизация иногда скорее мешает\n",
    "- Мелкие неприятности вроде GIL и несовместимости версий"
   ]
  },
  {
   "cell_type": "markdown",
   "metadata": {
    "slideshow": {
     "slide_type": "slide"
    }
   },
   "source": [
    "### Почему не ...?\n",
    "\n",
    "- **R?** Python — более универсальный язык и для него больше интересных библиотек\n",
    "- **Matlab, Mathematica, ..?** Почти нет хороших библиотек\n",
    "- **C++? Java?** Приходится писать слишком много кода\n",
    "- **Excel?** Возможности программирования слишком ограничены\n",
    "- **Платформы для анализа данных?** Ни один Kaggle не был выигран таким образом"
   ]
  },
  {
   "cell_type": "markdown",
   "metadata": {
    "slideshow": {
     "slide_type": "slide"
    }
   },
   "source": [
    "### Установка\n",
    "\n",
    "- Может быть, Python уже установлен у вас\n",
    "- Окружений Python (фактически копий Python) в системе может быть много\n",
    "- Самый удобный способ установки Python и его библиотек в 2018 году — использовать **Anaconda**: https://www.anaconda.com/download/"
   ]
  },
  {
   "cell_type": "markdown",
   "metadata": {
    "slideshow": {
     "slide_type": "slide"
    }
   },
   "source": [
    "### Python 2, Python 3\n",
    "\n",
    "- Существуют две несовместимые версии Python\n",
    "- Так *пришлось сделать*, чтобы исправить недостатки языка\n",
    "- Различия для прикладного кода на самом деле минимальны\n",
    "- Используйте Python 3, если можете"
   ]
  },
  {
   "cell_type": "markdown",
   "metadata": {
    "slideshow": {
     "slide_type": "slide"
    }
   },
   "source": [
    " ### Среды разработки (IDE)\n",
    " \n",
    " - **Python** — динамический язык, поэтому код на нем трудно анализировать, пока он не был запущен\n",
    " - Тем не менее, самая лучшая IDE — **PyCharm**\n",
    " - Для анализа данных практически все используют **Jupyter**"
   ]
  },
  {
   "cell_type": "markdown",
   "metadata": {
    "slideshow": {
     "slide_type": "slide"
    }
   },
   "source": [
    "### Jupyter\n",
    "\n",
    "- Вместо программы пишется воспроизводимый отчет, содержащий код, таблицы, графики\n",
    "- Эта презентация сделана в **Jupyter**\n",
    "- Это **сильно** ускоряет разработку\n",
    "- Идея напоминает *literate programming* Дональда Кнута\n",
    "- Похожая идея воспроизводится в **Mathematica** и **Sage**\n",
    "- Мы будем использовать Jupyter"
   ]
  },
  {
   "cell_type": "markdown",
   "metadata": {
    "slideshow": {
     "slide_type": "slide"
    }
   },
   "source": [
    "### Переменные\n",
    "\n",
    "- В Python в переменной может находиться все что угодно: число, строка, класс, функция, модуль\n",
    "- При этом всё — это объект"
   ]
  },
  {
   "cell_type": "code",
   "execution_count": 5,
   "metadata": {},
   "outputs": [
    {
     "name": "stdout",
     "output_type": "stream",
     "text": [
      "321312\n"
     ]
    }
   ],
   "source": [
    "var = 321312\n",
    "print(var)"
   ]
  },
  {
   "cell_type": "markdown",
   "metadata": {
    "slideshow": {
     "slide_type": "slide"
    }
   },
   "source": [
    "### Управление памятью\n",
    "\n",
    "- В некоторых языках памятью нужно *управлять*, в Python все проще\n",
    "- Ссылки объектов считаются\n",
    "- Объект удаляется, когда на него нет ссылок\n",
    "- Переменную можно явно удалить через `del`"
   ]
  },
  {
   "cell_type": "code",
   "execution_count": 14,
   "metadata": {},
   "outputs": [
    {
     "ename": "NameError",
     "evalue": "name 'x' is not defined",
     "output_type": "error",
     "traceback": [
      "\u001b[0;31m---------------------------------------------------------------------------\u001b[0m",
      "\u001b[0;31mNameError\u001b[0m                                 Traceback (most recent call last)",
      "\u001b[0;32m<ipython-input-14-766f96f4856a>\u001b[0m in \u001b[0;36m<module>\u001b[0;34m()\u001b[0m\n\u001b[1;32m      4\u001b[0m \u001b[0mx\u001b[0m\u001b[0;34m,\u001b[0m \u001b[0my\u001b[0m\u001b[0;34m\u001b[0m\u001b[0m\n\u001b[1;32m      5\u001b[0m \u001b[0;32mdel\u001b[0m \u001b[0mx\u001b[0m\u001b[0;34m\u001b[0m\u001b[0m\n\u001b[0;32m----> 6\u001b[0;31m \u001b[0mx\u001b[0m\u001b[0;34m\u001b[0m\u001b[0m\n\u001b[0m",
      "\u001b[0;31mNameError\u001b[0m: name 'x' is not defined"
     ]
    }
   ],
   "source": [
    "x = 9\n",
    "y = x\n",
    "x = 3\n",
    "x, y\n",
    "del x\n",
    "x"
   ]
  },
  {
   "cell_type": "markdown",
   "metadata": {
    "slideshow": {
     "slide_type": "slide"
    }
   },
   "source": [
    "### Простые типы данных\n"
   ]
  },
  {
   "cell_type": "code",
   "execution_count": 60,
   "metadata": {
    "slideshow": {
     "slide_type": "-"
    }
   },
   "outputs": [
    {
     "name": "stdout",
     "output_type": "stream",
     "text": [
      "2.1734234234234235\n"
     ]
    },
    {
     "data": {
      "text/plain": [
       "['sadsa', 'sadasd', 'asdsa']"
      ]
     },
     "execution_count": 60,
     "metadata": {},
     "output_type": "execute_result"
    }
   ],
   "source": [
    "str_var = \"строчка\"\n",
    "str_var = 'стро\\nчка'\n",
    "float_var = 2.1734234234234234234234234234343423\n",
    "int_var = 100\n",
    "print(float_var)\n",
    "\n",
    "# floating point paper\n",
    "\n",
    "\n",
    "\"sadsa sadasd    asdsa\".split()"
   ]
  },
  {
   "cell_type": "markdown",
   "metadata": {
    "slideshow": {
     "slide_type": "slide"
    }
   },
   "source": [
    "### Словари (dict)"
   ]
  },
  {
   "cell_type": "code",
   "execution_count": 29,
   "metadata": {},
   "outputs": [
    {
     "data": {
      "text/plain": [
       "{'a': 1}"
      ]
     },
     "execution_count": 29,
     "metadata": {},
     "output_type": "execute_result"
    }
   ],
   "source": [
    "dict = {'a': 1}\n",
    "dict"
   ]
  },
  {
   "cell_type": "code",
   "execution_count": 33,
   "metadata": {},
   "outputs": [
    {
     "data": {
      "text/plain": [
       "True"
      ]
     },
     "execution_count": 33,
     "metadata": {},
     "output_type": "execute_result"
    }
   ],
   "source": [
    "'a' in dict"
   ]
  },
  {
   "cell_type": "code",
   "execution_count": 40,
   "metadata": {},
   "outputs": [
    {
     "data": {
      "text/plain": [
       "0"
      ]
     },
     "execution_count": 40,
     "metadata": {},
     "output_type": "execute_result"
    }
   ],
   "source": [
    "dict.get('b', 0)"
   ]
  },
  {
   "cell_type": "markdown",
   "metadata": {
    "slideshow": {
     "slide_type": "slide"
    }
   },
   "source": [
    "### Функции\n",
    "\n",
    "- Обязательный элемент в *настоящих* программах\n",
    "- Полезны и в Jupyter для именования и группировки похожих действий\n",
    "- Функцию можно определить где угодно, но лучше это делать вначале"
   ]
  },
  {
   "cell_type": "code",
   "execution_count": 52,
   "metadata": {},
   "outputs": [
    {
     "data": {
      "text/plain": [
       "25"
      ]
     },
     "execution_count": 52,
     "metadata": {},
     "output_type": "execute_result"
    }
   ],
   "source": [
    "def power(x, d=2):\n",
    "    return x**d\n",
    "\n",
    "power(x=5)"
   ]
  },
  {
   "cell_type": "markdown",
   "metadata": {
    "slideshow": {
     "slide_type": "slide"
    }
   },
   "source": [
    "### Циклы\n",
    "\n",
    "- Циклы можно делать с помощью **for** или **while**\n",
    "- Итерироваться можно по совершенно разным объектам (паттерн *iterator*):"
   ]
  },
  {
   "cell_type": "code",
   "execution_count": 71,
   "metadata": {},
   "outputs": [
    {
     "name": "stdout",
     "output_type": "stream",
     "text": [
      "1 2 3 "
     ]
    }
   ],
   "source": [
    "for x in [1, 2, 3]:\n",
    "    print(x, end=\" \")"
   ]
  },
  {
   "cell_type": "code",
   "execution_count": 55,
   "metadata": {},
   "outputs": [
    {
     "name": "stdout",
     "output_type": "stream",
     "text": [
      "1 2 3 "
     ]
    }
   ],
   "source": [
    "for x in \"123\":\n",
    "    print(x, end=\" \")"
   ]
  },
  {
   "cell_type": "code",
   "execution_count": 10,
   "metadata": {},
   "outputs": [
    {
     "name": "stdout",
     "output_type": "stream",
     "text": [
      "1 2 3 "
     ]
    }
   ],
   "source": [
    "for x in range(1, 4):\n",
    "    print(x, end=\" \")"
   ]
  },
  {
   "cell_type": "markdown",
   "metadata": {
    "slideshow": {
     "slide_type": "slide"
    }
   },
   "source": [
    "### List comprehensions\n",
    "Элемент функционального стиля программирования"
   ]
  },
  {
   "cell_type": "code",
   "execution_count": 65,
   "metadata": {},
   "outputs": [
    {
     "data": {
      "text/plain": [
       "['aa', 'bb', 'cc']"
      ]
     },
     "execution_count": 65,
     "metadata": {},
     "output_type": "execute_result"
    }
   ],
   "source": [
    "[x + x for x in ['a', 'b', 'c']]"
   ]
  },
  {
   "cell_type": "code",
   "execution_count": 67,
   "metadata": {},
   "outputs": [
    {
     "name": "stdout",
     "output_type": "stream",
     "text": [
      "0\n"
     ]
    }
   ],
   "source": [
    "for x in (x**2 for x in range(100000000000)):\n",
    "    print(x)\n",
    "    break"
   ]
  },
  {
   "cell_type": "markdown",
   "metadata": {
    "slideshow": {
     "slide_type": "slide"
    }
   },
   "source": [
    "### PEP 8\n",
    "\n",
    "- Принятый сообществом стиль кода\n",
    "- Стандарт можно найти здесь: https://www.python.org/dev/peps/pep-0008/\n",
    "- Делает ваш код понятнее остальным\n",
    "- `имя_функции`, `ИМЯ_КОНСТАНТЫ`, `ИмяКласса`"
   ]
  },
  {
   "cell_type": "markdown",
   "metadata": {
    "slideshow": {
     "slide_type": "slide"
    }
   },
   "source": [
    "### Pythonic\n",
    "\n",
    "- Так называют код, следующий идиомам языка **Python**\n",
    "- Следование идиомам позволяет делать проще, понятнее и без ошибок\n",
    "- Подробнее здесь: http://docs.python-guide.org/en/latest/writing/style/\n",
    "   "
   ]
  },
  {
   "cell_type": "markdown",
   "metadata": {
    "slideshow": {
     "slide_type": "slide"
    }
   },
   "source": [
    "### Исключения\n",
    "\n",
    "Ошибки будут происходить:"
   ]
  },
  {
   "cell_type": "code",
   "execution_count": null,
   "metadata": {
    "slideshow": {
     "slide_type": "-"
    }
   },
   "outputs": [],
   "source": []
  },
  {
   "cell_type": "code",
   "execution_count": 74,
   "metadata": {
    "slideshow": {
     "slide_type": "-"
    }
   },
   "outputs": [
    {
     "name": "stdout",
     "output_type": "stream",
     "text": [
      "invalid literal for int() with base 10: 'число'\n",
      "0.0\n"
     ]
    }
   ],
   "source": [
    "try:\n",
    "    value = int(\"число\")\n",
    "except Exception as e:\n",
    "    print(e)\n",
    "    value = 0.0\n",
    "    \n",
    "print(value)"
   ]
  },
  {
   "cell_type": "markdown",
   "metadata": {
    "slideshow": {
     "slide_type": "slide"
    }
   },
   "source": [
    "### Открытие файлов"
   ]
  },
  {
   "cell_type": "code",
   "execution_count": 75,
   "metadata": {},
   "outputs": [
    {
     "name": "stdout",
     "output_type": "stream",
     "text": [
      "line 1\n",
      "line 2\n",
      "line 3\n",
      "line 4\n"
     ]
    }
   ],
   "source": [
    "for line in open('file.txt'):\n",
    "    print(line, end=\"\")"
   ]
  },
  {
   "cell_type": "markdown",
   "metadata": {
    "slideshow": {
     "slide_type": "slide"
    }
   },
   "source": [
    "### Домашнее задание\n",
    "\n",
    "- Загрузите в Jupyter файл с некоторым текстовым документом\n",
    "- Считайте файл по строкам и посчитайте как часто встречается каждое слово\n",
    "\n",
    "Более подробная инструкция будет в почте."
   ]
  }
 ],
 "metadata": {
  "celltoolbar": "Slideshow",
  "kernelspec": {
   "display_name": "Python 3",
   "language": "python",
   "name": "python3"
  },
  "language_info": {
   "codemirror_mode": {
    "name": "ipython",
    "version": 3
   },
   "file_extension": ".py",
   "mimetype": "text/x-python",
   "name": "python",
   "nbconvert_exporter": "python",
   "pygments_lexer": "ipython3",
   "version": "3.6.4"
  },
  "livereveal": {
   "theme": "white",
   "transition": "fade-in"
  }
 },
 "nbformat": 4,
 "nbformat_minor": 2
}
