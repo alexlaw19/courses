{
 "cells": [
  {
   "cell_type": "code",
   "execution_count": 51,
   "metadata": {
    "slideshow": {
     "slide_type": "skip"
    }
   },
   "outputs": [],
   "source": [
    "import matplotlib.pyplot as plt\n",
    "%matplotlib inline"
   ]
  },
  {
   "cell_type": "markdown",
   "metadata": {
    "slideshow": {
     "slide_type": "slide"
    }
   },
   "source": [
    "# Data science & Python & Machine Learning\n",
    "\n",
    "### Тексты, файлы, сеть, форматы"
   ]
  },
  {
   "cell_type": "markdown",
   "metadata": {
    "slideshow": {
     "slide_type": "slide"
    }
   },
   "source": [
    "### Домашнее задание"
   ]
  },
  {
   "cell_type": "code",
   "execution_count": 56,
   "metadata": {},
   "outputs": [
    {
     "data": {
      "text/plain": [
       "{'--': 2616,\n",
       " 'в': 2071,\n",
       " 'его': 542,\n",
       " 'и': 2585,\n",
       " 'как': 567,\n",
       " 'на': 1157,\n",
       " 'не': 1855,\n",
       " 'он': 795,\n",
       " 'с': 843,\n",
       " 'что': 1099}"
      ]
     },
     "execution_count": 56,
     "metadata": {},
     "output_type": "execute_result"
    }
   ],
   "source": [
    "from collections import Counter\n",
    "\n",
    "with open('r1984.txt', encoding='koi8-r') as file:\n",
    "    counts = Counter(file.read().split())\n",
    "\n",
    "dict(counts.most_common(10))"
   ]
  },
  {
   "cell_type": "markdown",
   "metadata": {
    "slideshow": {
     "slide_type": "slide"
    }
   },
   "source": [
    "### Структура  notebook"
   ]
  },
  {
   "cell_type": "markdown",
   "metadata": {},
   "source": [
    "- Импорты лучше помещать в самое начало\n",
    "- Затем блок с константами и блок с функциями\n",
    "- Разделяйте блоки загрузки данных и этапы их обработки"
   ]
  },
  {
   "cell_type": "markdown",
   "metadata": {
    "slideshow": {
     "slide_type": "slide"
    }
   },
   "source": [
    "### Списки"
   ]
  },
  {
   "cell_type": "code",
   "execution_count": 57,
   "metadata": {},
   "outputs": [
    {
     "data": {
      "text/plain": [
       "([1, 2], [3, 4])"
      ]
     },
     "execution_count": 57,
     "metadata": {},
     "output_type": "execute_result"
    }
   ],
   "source": [
    "lst = [1, 2, 3, 4]\n",
    "lst[:2], lst[2:]"
   ]
  },
  {
   "cell_type": "code",
   "execution_count": null,
   "metadata": {
    "slideshow": {
     "slide_type": "slide"
    }
   },
   "outputs": [],
   "source": [
    "\n",
    "\n",
    "\n",
    "\n",
    "\n",
    "\n"
   ]
  },
  {
   "cell_type": "markdown",
   "metadata": {
    "slideshow": {
     "slide_type": "slide"
    }
   },
   "source": [
    "### Кодировки\n",
    "\n",
    "- С самого начала нужно было придумать как закодировать возможные символы: ASCII\n",
    "- Один символ = один байт\n",
    "- Всего 256 возможных символов"
   ]
  },
  {
   "cell_type": "code",
   "execution_count": 58,
   "metadata": {},
   "outputs": [
    {
     "data": {
      "text/plain": [
       "['<', '=', '>', '?', '@', 'A', 'B', 'C', 'D', 'E']"
      ]
     },
     "execution_count": 58,
     "metadata": {},
     "output_type": "execute_result"
    }
   ],
   "source": [
    "[chr(x) for x in range(60, 70)]"
   ]
  },
  {
   "cell_type": "markdown",
   "metadata": {
    "slideshow": {
     "slide_type": "slide"
    }
   },
   "source": [
    "### Кодировки\n",
    "\n",
    "- Можно использовать значения от 128 до 256: KOI8-R, Windows1251, ...\n",
    "- Все равно не хватает, нжуна переменная длина кодирования: UTF-8"
   ]
  },
  {
   "cell_type": "code",
   "execution_count": 59,
   "metadata": {},
   "outputs": [
    {
     "data": {
      "text/plain": [
       "bytearray(b'\\xd0\\xbf\\xd1\\x80\\xd0\\xb8\\xd0\\xb2\\xd0\\xb5\\xd1\\x82')"
      ]
     },
     "execution_count": 59,
     "metadata": {},
     "output_type": "execute_result"
    }
   ],
   "source": [
    "bytearray('привет', encoding='utf-8')"
   ]
  },
  {
   "cell_type": "markdown",
   "metadata": {
    "slideshow": {
     "slide_type": "slide"
    }
   },
   "source": [
    "### Определение кодировки\n",
    "\n",
    "- В нормальных случаях кодировка описана в мета-данных\n",
    "- Точно это сделать невозможно, но можно статистически:"
   ]
  },
  {
   "cell_type": "code",
   "execution_count": 60,
   "metadata": {},
   "outputs": [
    {
     "data": {
      "text/plain": [
       "{'confidence': 0.9757579693768483, 'encoding': 'KOI8-R', 'language': 'Russian'}"
      ]
     },
     "execution_count": 60,
     "metadata": {},
     "output_type": "execute_result"
    }
   ],
   "source": [
    "import chardet\n",
    "chardet.detect(open('r1984.txt', 'rb').read(10000))"
   ]
  },
  {
   "cell_type": "markdown",
   "metadata": {
    "slideshow": {
     "slide_type": "slide"
    }
   },
   "source": [
    "### Регулярные выражения\n",
    "\n",
    "- Язык для манипуляций над строками\n",
    "- Чаще всего используется для поиска чего-нибудь в тексте"
   ]
  },
  {
   "cell_type": "code",
   "execution_count": 61,
   "metadata": {},
   "outputs": [
    {
     "data": {
      "text/plain": [
       "['FBI', 'MI5', 'FSB']"
      ]
     },
     "execution_count": 61,
     "metadata": {},
     "output_type": "execute_result"
    }
   ],
   "source": [
    "import re\n",
    "\n",
    "text = \"\"\"Although many of the FBI's functions \n",
    "are unique, its activities in support of national\n",
    "security are comparable to those of the British\n",
    "MI5 and the Russian FSB\"\"\"\n",
    "\n",
    "re.findall('[A-Z0-9]{3}', text)"
   ]
  },
  {
   "cell_type": "markdown",
   "metadata": {
    "slideshow": {
     "slide_type": "slide"
    }
   },
   "source": [
    "Регулярные выражения могут стать сложными:"
   ]
  },
  {
   "cell_type": "code",
   "execution_count": 62,
   "metadata": {},
   "outputs": [
    {
     "data": {
      "text/plain": [
       "['lisitsyn.s.o@gmail.com']"
      ]
     },
     "execution_count": 62,
     "metadata": {},
     "output_type": "execute_result"
    }
   ],
   "source": [
    "email = re.compile(r\"\"\"(?:[a-z0-9!#$%&'*+/=?^_`{|}~-]+(?:\"\"\"\n",
    "                   r\"\"\"\\.[a-z0-9!#$%&'*+/=?^_`{|}~-]+)*|\"\"\"\n",
    "                   r\"\"\"(?:[\\x01-\\x08\\x0b\\x0c\\x0e-\\x1f\\x2\"\"\"\n",
    "                   r\"\"\"1\\x23-\\x5b\\x5d-\\x7f]|\\\\[\\x01-\\x09\"\"\"\n",
    "                   r\"\"\"\\x0b\\x0c\\x0e-\\x7f])*\")@(?:(?:[a-z0-9]\"\"\"\n",
    "                   r\"\"\"(?:[a-z0-9-]*[a-z0-9])?\\.)+[a-z0-9]\"\"\"\n",
    "                   r\"\"\"(?:[a-z0-9-]*[a-z0-9])?|\\[(\"\"\"\n",
    "                   r\"\"\"?:(?:25[0-5]|2[0-4][0-9]|[01]\"\"\"\n",
    "                   r\"\"\"?[0-9][0-9]?)\\.){3}(?:25[0-5]|2[0-4]\"\"\"\n",
    "                   r\"\"\"[0-9]|[01]?[0-9][0-9]?|[a-z0-9-]*\"\"\"\n",
    "                   r\"\"\"[a-z0-9]:(?:[\\x01-\\x08\\x0b\\x0c\\x0e-\"\"\"\n",
    "                   r\"\"\"\\x1f\\x21-\\x5a\\x53-\\x7f]|\\\\[\\x01-\"\"\"\n",
    "                   r\"\"\"\\x09\\x0b\\x0c\\x0e-\\x7f])+)\\])\"\"\")\n",
    "email.findall('lisitsyn.s.o@gmail.com')"
   ]
  },
  {
   "cell_type": "markdown",
   "metadata": {
    "slideshow": {
     "slide_type": "slide"
    }
   },
   "source": [
    "### Телефонные номера\n",
    "\n",
    "Придумаем регулярное выражение для поиска номеров телефона:"
   ]
  },
  {
   "cell_type": "code",
   "execution_count": 63,
   "metadata": {},
   "outputs": [
    {
     "data": {
      "text/plain": [
       "[]"
      ]
     },
     "execution_count": 63,
     "metadata": {},
     "output_type": "execute_result"
    }
   ],
   "source": [
    "phone = re.compile(\"\\?\\?\\?\")\n",
    "phone.findall('+7(916)145-56-12')"
   ]
  },
  {
   "cell_type": "markdown",
   "metadata": {
    "slideshow": {
     "slide_type": "slide"
    }
   },
   "source": [
    "### Даты"
   ]
  },
  {
   "cell_type": "code",
   "execution_count": 64,
   "metadata": {},
   "outputs": [
    {
     "data": {
      "text/plain": [
       "'2018/31/03'"
      ]
     },
     "execution_count": 64,
     "metadata": {},
     "output_type": "execute_result"
    }
   ],
   "source": [
    "from datetime import datetime\n",
    "\n",
    "date = datetime.strptime('2018-03-31', '%Y-%m-%d')\n",
    "datetime.strftime(date, '%Y/%d/%m')"
   ]
  },
  {
   "cell_type": "markdown",
   "metadata": {
    "slideshow": {
     "slide_type": "slide"
    }
   },
   "source": [
    "### Нечеткий поиск"
   ]
  },
  {
   "cell_type": "code",
   "execution_count": 65,
   "metadata": {},
   "outputs": [
    {
     "data": {
      "text/plain": [
       "[('Москва', 100), ('Масква', 83), ('Мск', 67)]"
      ]
     },
     "execution_count": 65,
     "metadata": {},
     "output_type": "execute_result"
    }
   ],
   "source": [
    "import fuzzywuzzy.process\n",
    "\n",
    "fuzzywuzzy.process.extractBests('Москва', ['Мск', 'Масква', 'Москва', 'Москоу', 'Воронеж'], limit=3)"
   ]
  },
  {
   "cell_type": "markdown",
   "metadata": {
    "slideshow": {
     "slide_type": "slide"
    }
   },
   "source": [
    "### Лемматизация\n",
    "\n",
    "- Слова принимают различные формы\n",
    "- Лучше всего использовать нормальную форму:"
   ]
  },
  {
   "cell_type": "code",
   "execution_count": 66,
   "metadata": {},
   "outputs": [
    {
     "data": {
      "text/plain": [
       "[Parse(word='московская', tag=OpencorporaTag('ADJF femn,sing,nomn'), normal_form='московский', score=0.928571, methods_stack=((<DictionaryAnalyzer>, 'московская', 16, 7),)),\n",
       " Parse(word='московская', tag=OpencorporaTag('NOUN,anim,femn,Sgtm,Surn sing,nomn'), normal_form='московский', score=0.071428, methods_stack=((<DictionaryAnalyzer>, 'московская', 102, 6),))]"
      ]
     },
     "execution_count": 66,
     "metadata": {},
     "output_type": "execute_result"
    }
   ],
   "source": [
    "import pymorphy2\n",
    "morpher = pymorphy2.MorphAnalyzer()\n",
    "morpher.parse('московская')"
   ]
  },
  {
   "cell_type": "markdown",
   "metadata": {
    "slideshow": {
     "slide_type": "slide"
    }
   },
   "source": [
    "### Частоты слов\n",
    "\n",
    "- Тексты бывают разной длины\n",
    "- Правильно определять частоту относительно всех слов"
   ]
  },
  {
   "cell_type": "code",
   "execution_count": 67,
   "metadata": {},
   "outputs": [
    {
     "data": {
      "text/plain": [
       "[('--', 0.030020656414964424),\n",
       " ('и', 0.02966490704613266),\n",
       " ('в', 0.02376635299518017),\n",
       " ('не', 0.02128758319944916),\n",
       " ('на', 0.013277484507688777)]"
      ]
     },
     "execution_count": 67,
     "metadata": {},
     "output_type": "execute_result"
    }
   ],
   "source": [
    "total = sum(counts.values())\n",
    "for k in counts:\n",
    "    counts[k] /= total\n",
    "counts.most_common(5)"
   ]
  },
  {
   "cell_type": "markdown",
   "metadata": {
    "slideshow": {
     "slide_type": "slide"
    }
   },
   "source": [
    "### Относительные частоты\n",
    "\n",
    "- Соотношение частот между разными документами говорит об их различиях\n",
    "- Интереснее всего сравнивать с *корпусом языка*"
   ]
  },
  {
   "cell_type": "code",
   "execution_count": 69,
   "metadata": {},
   "outputs": [
    {
     "data": {
      "text/plain": [
       "[('в', 652455), ('и', 586748), ('а', 579068), ('я', 499950), ('с', 163942)]"
      ]
     },
     "execution_count": 69,
     "metadata": {},
     "output_type": "execute_result"
    }
   ],
   "source": [
    "corpus_counts = Counter()\n",
    "for line in open('1grams-3.txt'):\n",
    "    count, word = line.lower().split()\n",
    "    corpus_counts[word] = int(count)\n",
    "corpus_counts.most_common(5)"
   ]
  },
  {
   "cell_type": "markdown",
   "metadata": {
    "slideshow": {
     "slide_type": "slide"
    }
   },
   "source": [
    "### TF-IDF\n",
    "\n",
    "- Term Frequency: частота слова в документе\n",
    "- Inverse Document Frequency: доля документов, имеющих это слово\n",
    "- Произведение TF и IDF — хорошая мера интересности слова вообще"
   ]
  },
  {
   "cell_type": "code",
   "execution_count": 70,
   "metadata": {},
   "outputs": [],
   "source": [
    "from sklearn.feature_extraction.text import TfidfVectorizer\n",
    "vectorizer = TfidfVectorizer()"
   ]
  },
  {
   "cell_type": "code",
   "execution_count": 71,
   "metadata": {
    "slideshow": {
     "slide_type": "slide"
    }
   },
   "outputs": [
    {
     "data": {
      "text/plain": [
       "{'about': 0, 'all': 1, 'is': 2, 'knn': 3, 'ml': 4, 'svm': 5, 'xgboost': 6}"
      ]
     },
     "execution_count": 71,
     "metadata": {},
     "output_type": "execute_result"
    },
    {
     "data": {
      "image/png": "[encoded data removed]",
      "text/plain": [
       "<matplotlib.figure.Figure at 0x1a10698438>"
      ]
     },
     "metadata": {},
     "output_type": "display_data"
    }
   ],
   "source": [
    "texts = [\n",
    "    \"ML is all about SVM\",\n",
    "    \"ML is all about XGBoost\",\n",
    "    \"ML is all about KNN\"\n",
    "]\n",
    "plt.matshow(vectorizer.fit_transform(texts).todense(), cmap=plt.cm.gray)\n",
    "vectorizer.vocabulary_"
   ]
  },
  {
   "cell_type": "markdown",
   "metadata": {
    "slideshow": {
     "slide_type": "slide"
    }
   },
   "source": [
    "# Сеть"
   ]
  },
  {
   "cell_type": "markdown",
   "metadata": {
    "slideshow": {
     "slide_type": "slide"
    }
   },
   "source": [
    "### HTTP\n",
    "\n",
    "- Протокол, на котором работает интернет\n",
    "- Для отладки и изучения очень удобно использовать утилиту `curl`"
   ]
  },
  {
   "cell_type": "code",
   "execution_count": 72,
   "metadata": {
    "slideshow": {
     "slide_type": "slide"
    }
   },
   "outputs": [
    {
     "name": "stdout",
     "output_type": "stream",
     "text": [
      "* Rebuilt URL to: google.com/\n",
      "*   Trying 2a00:1450:4010:c06::71...\n",
      "* TCP_NODELAY set\n",
      "* Connected to google.com (2a00:1450:4010:c06::71) port 80 (#0)\n",
      "> GET / HTTP/1.1\n",
      "> Host: google.com\n",
      "> User-Agent: curl/7.58.0\n",
      "> Accept: */*\n",
      "> \n",
      "< HTTP/1.1 302 Found\n",
      "< Cache-Control: private\n",
      "< Content-Type: text/html; charset=UTF-8\n",
      "< Referrer-Policy: no-referrer\n",
      "< Location: http://www.google.ru/?gfe_rd=cr&dcr=0&ei=zGq_Wo7RG5-DuAGNmIngCA\n",
      "< Content-Length: 268\n",
      "< Date: Sat, 31 Mar 2018 11:02:36 GMT\n",
      "< \n",
      "<HTML><HEAD><meta http-equiv=\"content-type\" content=\"text/html;charset=utf-8\">\n",
      "<TITLE>302 Moved</TITLE></HEAD><BODY>\n",
      "<H1>302 Moved</H1>\n",
      "The document has moved\n",
      "<A HREF=\"http://www.google.ru/?gfe_rd=cr&amp;dcr=0&amp;ei=zGq_Wo7RG5-DuAGNmIngCA\">here</A>.\n",
      "</BODY></HTML>\n",
      "* Connection #0 to host google.com left intact\n"
     ]
    }
   ],
   "source": [
    "! curl -v google.com"
   ]
  },
  {
   "cell_type": "markdown",
   "metadata": {
    "slideshow": {
     "slide_type": "slide"
    }
   },
   "source": [
    "### requests\n",
    "\n",
    "- Самая удобная библиотека для выполнения http запросов"
   ]
  },
  {
   "cell_type": "code",
   "execution_count": 73,
   "metadata": {},
   "outputs": [
    {
     "data": {
      "text/plain": [
       "'<!DOCTYPE html>\\n<!--[if lte IE 9]>\\n<html class=\"no-js ie-old\"> <![endif]-->\\n<!--[if gt IE 9]><!-->\\n<'"
      ]
     },
     "execution_count": 73,
     "metadata": {},
     "output_type": "execute_result"
    }
   ],
   "source": [
    "import requests\n",
    "\n",
    "response = requests.get('http://rbc.ru')\n",
    "response.text[:100]"
   ]
  },
  {
   "cell_type": "markdown",
   "metadata": {
    "slideshow": {
     "slide_type": "slide"
    }
   },
   "source": [
    "### Отправка email\n",
    "\n",
    "Составим сообщение:"
   ]
  },
  {
   "cell_type": "code",
   "execution_count": 74,
   "metadata": {},
   "outputs": [],
   "source": [
    "from email.mime.multipart import MIMEMultipart\n",
    "from email.mime.text import MIMEText\n",
    "\n",
    "msg = MIMEMultipart()\n",
    "msg['From'] = 'dts-pdsml@yandex.ru'\n",
    "msg['To'] = 'lisitsyn.s.o@gmail.com'\n",
    "msg['Subject'] = \"Hello\"\n",
    "msg.attach(MIMEText(\"Hello this is me\", 'plain'))"
   ]
  },
  {
   "cell_type": "markdown",
   "metadata": {
    "slideshow": {
     "slide_type": "slide"
    }
   },
   "source": [
    "### Отправка email\n",
    "\n",
    "Отправим сообщение:"
   ]
  },
  {
   "cell_type": "code",
   "execution_count": 75,
   "metadata": {},
   "outputs": [],
   "source": [
    "import smtplib\n",
    "\n",
    "server = smtplib.SMTP('smtp.yandex.ru', 587)\n",
    "server.starttls()\n",
    "server.login(\"dts-pdsml\", \"8fk-EFw-DdG-Cqa\")\n",
    "server.sendmail(\n",
    "    from_addr='dts-pdsml@yandex.ru',\n",
    "    to_addrs=['lisitsyn.s.o@gmail.com'],\n",
    "    msg=msg.as_string(),\n",
    ")\n",
    "server.quit();"
   ]
  },
  {
   "cell_type": "markdown",
   "metadata": {
    "slideshow": {
     "slide_type": "slide"
    }
   },
   "source": [
    "# Форматы"
   ]
  },
  {
   "cell_type": "markdown",
   "metadata": {
    "slideshow": {
     "slide_type": "slide"
    }
   },
   "source": [
    "### HTML\n",
    "\n",
    "- Язык разметки всех веб-сайтов\n",
    "- Разберем полученный ответ:"
   ]
  },
  {
   "cell_type": "code",
   "execution_count": 76,
   "metadata": {},
   "outputs": [
    {
     "data": {
      "text/plain": [
       "<title>РБК — новости, акции, курсы валют, доллар, евро</title>"
      ]
     },
     "execution_count": 76,
     "metadata": {},
     "output_type": "execute_result"
    }
   ],
   "source": [
    "import bs4\n",
    "\n",
    "document = bs4.BeautifulSoup(response.text, 'html5lib')\n",
    "document.find('title')"
   ]
  },
  {
   "cell_type": "markdown",
   "metadata": {
    "slideshow": {
     "slide_type": "slide"
    }
   },
   "source": [
    "### RSS (Rich Site Summary)\n",
    "\n",
    "- Стандартный формат для распространения новостей и блогов"
   ]
  },
  {
   "cell_type": "code",
   "execution_count": 77,
   "metadata": {},
   "outputs": [
    {
     "data": {
      "text/plain": [
       "['Met Police chief: Social media leads children to violence',\n",
       " \"Alan Sugar urged to 'delete' Corbyn Hitler tweet\",\n",
       " 'Gender pay gap deadline: What to know',\n",
       " 'Spy poisoning: Russia escalates spy row with new expulsions',\n",
       " 'Esther McVey: Saturday jobs help teenagers prepare for work']"
      ]
     },
     "execution_count": 77,
     "metadata": {},
     "output_type": "execute_result"
    }
   ],
   "source": [
    "import feedparser\n",
    "\n",
    "news = feedparser.parse('http://feeds.bbci.co.uk/news/politics/rss.xml')\n",
    "[each.title for each in news['entries']][:5]"
   ]
  },
  {
   "cell_type": "markdown",
   "metadata": {
    "slideshow": {
     "slide_type": "slide"
    }
   },
   "source": [
    "### JSON\n",
    "\n",
    "- JavaScript Object Notation\n",
    "- Основной формат для передачи данных между бэкендом и фронтэндом"
   ]
  },
  {
   "cell_type": "code",
   "execution_count": 78,
   "metadata": {},
   "outputs": [
    {
     "data": {
      "text/plain": [
       "'{\"--\": 0.030020656414964424, \"и\": 0.02966490704613266, \"в\": 0.02376635299518017, \"не\": 0.02128758319944916, \"на\": 0.013277484507688777, \"что\": 0.012611888914390636, \"с\": 0.009674087675005738, \"он\": 0.00912324994262107, \"как\": 0.006506770713793895, \"его\": 0.006219876061510214}'"
      ]
     },
     "execution_count": 78,
     "metadata": {},
     "output_type": "execute_result"
    }
   ],
   "source": [
    "import json\n",
    "\n",
    "json.dumps(dict(counts.most_common(10)), ensure_ascii=False)"
   ]
  },
  {
   "cell_type": "markdown",
   "metadata": {
    "slideshow": {
     "slide_type": "slide"
    }
   },
   "source": [
    "### XML\n",
    "\n",
    "- eXtensible Markup Language\n",
    "- HTML — подмножество XML"
   ]
  },
  {
   "cell_type": "code",
   "execution_count": 79,
   "metadata": {},
   "outputs": [
    {
     "data": {
      "text/plain": [
       "'<words><word count=\"0.030020656414964424\">--</word><word count=\"0.02966490704613266\">и</word><word count=\"0.02376635299518017\">в</word><word count=\"0.02128758319944916\">не</word><word count=\"0.013277484507688777\">на</word><word count=\"0.012611888914390636\">что</word><word count=\"0.009674087675005738\">с</word><word count=\"0.00912324994262107\">он</word><word count=\"0.006506770713793895\">как</word><word count=\"0.006219876061510214\">его</word></words>'"
      ]
     },
     "execution_count": 79,
     "metadata": {},
     "output_type": "execute_result"
    }
   ],
   "source": [
    "from xml.etree import ElementTree as ET\n",
    "root = ET.Element('words')\n",
    "for word, count in counts.most_common(10):\n",
    "    sub = ET.SubElement(root, 'word')\n",
    "    sub.set('count', str(count))\n",
    "    sub.text = word\n",
    "ET.tostring(root, encoding='utf-8').decode('utf-8')"
   ]
  },
  {
   "cell_type": "markdown",
   "metadata": {
    "slideshow": {
     "slide_type": "slide"
    }
   },
   "source": [
    "### CSV\n",
    "\n",
    "- Comma (!) separated values\n",
    "- Основной формат данных в Kaggle\n",
    "- Прочитаем [график отключения уличного освещения](https://data.mos.ru/opendata/7701236617-grafik-vklyucheniya-i-vyklyucheniya-osveshcheniya) в .csv:"
   ]
  },
  {
   "cell_type": "code",
   "execution_count": 80,
   "metadata": {},
   "outputs": [
    {
     "data": {
      "text/html": [
       "<div>\n",
       "<style scoped>\n",
       "    .dataframe tbody tr th:only-of-type {\n",
       "        vertical-align: middle;\n",
       "    }\n",
       "\n",
       "    .dataframe tbody tr th {\n",
       "        vertical-align: top;\n",
       "    }\n",
       "\n",
       "    .dataframe thead th {\n",
       "        text-align: right;\n",
       "    }\n",
       "</style>\n",
       "<table border=\"1\" class=\"dataframe\">\n",
       "  <thead>\n",
       "    <tr style=\"text-align: right;\">\n",
       "      <th></th>\n",
       "      <th>Date</th>\n",
       "      <th>OnTime</th>\n",
       "      <th>OffTime</th>\n",
       "      <th>DurationOfLighting</th>\n",
       "      <th>global_id</th>\n",
       "      <th>Unnamed: 5</th>\n",
       "    </tr>\n",
       "  </thead>\n",
       "  <tbody>\n",
       "    <tr>\n",
       "      <th>0</th>\n",
       "      <td>01.01.2017</td>\n",
       "      <td>16:17</td>\n",
       "      <td>08:36</td>\n",
       "      <td>16:19</td>\n",
       "      <td>638836209</td>\n",
       "      <td>NaN</td>\n",
       "    </tr>\n",
       "    <tr>\n",
       "      <th>1</th>\n",
       "      <td>02.01.2017</td>\n",
       "      <td>16:19</td>\n",
       "      <td>08:36</td>\n",
       "      <td>16:17</td>\n",
       "      <td>638836210</td>\n",
       "      <td>NaN</td>\n",
       "    </tr>\n",
       "    <tr>\n",
       "      <th>2</th>\n",
       "      <td>03.01.2017</td>\n",
       "      <td>16:21</td>\n",
       "      <td>08:35</td>\n",
       "      <td>16:14</td>\n",
       "      <td>638836211</td>\n",
       "      <td>NaN</td>\n",
       "    </tr>\n",
       "    <tr>\n",
       "      <th>3</th>\n",
       "      <td>04.01.2017</td>\n",
       "      <td>16:23</td>\n",
       "      <td>08:34</td>\n",
       "      <td>16:11</td>\n",
       "      <td>638836213</td>\n",
       "      <td>NaN</td>\n",
       "    </tr>\n",
       "    <tr>\n",
       "      <th>4</th>\n",
       "      <td>05.01.2017</td>\n",
       "      <td>16:25</td>\n",
       "      <td>08:34</td>\n",
       "      <td>16:09</td>\n",
       "      <td>638836221</td>\n",
       "      <td>NaN</td>\n",
       "    </tr>\n",
       "  </tbody>\n",
       "</table>\n",
       "</div>"
      ],
      "text/plain": [
       "         Date OnTime OffTime DurationOfLighting  global_id  Unnamed: 5\n",
       "0  01.01.2017  16:17   08:36              16:19  638836209         NaN\n",
       "1  02.01.2017  16:19   08:36              16:17  638836210         NaN\n",
       "2  03.01.2017  16:21   08:35              16:14  638836211         NaN\n",
       "3  04.01.2017  16:23   08:34              16:11  638836213         NaN\n",
       "4  05.01.2017  16:25   08:34              16:09  638836221         NaN"
      ]
     },
     "execution_count": 80,
     "metadata": {},
     "output_type": "execute_result"
    }
   ],
   "source": [
    "import pandas as pd\n",
    "\n",
    "pd.read_csv('data-27881-2017-12-30.csv', delimiter=';').head()"
   ]
  },
  {
   "cell_type": "markdown",
   "metadata": {
    "slideshow": {
     "slide_type": "slide"
    }
   },
   "source": [
    "### Excel\n",
    "\n",
    "- Данные по-прежнему часто обрабатываются в Excel\n",
    "- Прочитаем [список станций метро](https://data.mos.ru/classifier/7704786030-stantsii-moskovskogo-metropolitena) в формате .xlsx"
   ]
  },
  {
   "cell_type": "code",
   "execution_count": 81,
   "metadata": {},
   "outputs": [
    {
     "data": {
      "text/html": [
       "<div>\n",
       "<style scoped>\n",
       "    .dataframe tbody tr th:only-of-type {\n",
       "        vertical-align: middle;\n",
       "    }\n",
       "\n",
       "    .dataframe tbody tr th {\n",
       "        vertical-align: top;\n",
       "    }\n",
       "\n",
       "    .dataframe thead th {\n",
       "        text-align: right;\n",
       "    }\n",
       "</style>\n",
       "<table border=\"1\" class=\"dataframe\">\n",
       "  <thead>\n",
       "    <tr style=\"text-align: right;\">\n",
       "      <th></th>\n",
       "      <th>Наименование станции</th>\n",
       "      <th>Наименование линии</th>\n",
       "      <th>Административный округ</th>\n",
       "      <th>global_id</th>\n",
       "      <th>Район</th>\n",
       "      <th>Статус</th>\n",
       "      <th>Код</th>\n",
       "    </tr>\n",
       "  </thead>\n",
       "  <tbody>\n",
       "    <tr>\n",
       "      <th>0</th>\n",
       "      <td>Третьяковская</td>\n",
       "      <td>Калининская линия</td>\n",
       "      <td>Центральный административный округ</td>\n",
       "      <td>58701962</td>\n",
       "      <td>район Замоскворечье</td>\n",
       "      <td>действует</td>\n",
       "      <td>136</td>\n",
       "    </tr>\n",
       "    <tr>\n",
       "      <th>1</th>\n",
       "      <td>Медведково</td>\n",
       "      <td>Калужско-Рижская линия</td>\n",
       "      <td>Северо-Восточный административный округ</td>\n",
       "      <td>58701963</td>\n",
       "      <td>район Северное Медведково</td>\n",
       "      <td>действует</td>\n",
       "      <td>86</td>\n",
       "    </tr>\n",
       "    <tr>\n",
       "      <th>2</th>\n",
       "      <td>Первомайская</td>\n",
       "      <td>Арбатско-Покровская линия</td>\n",
       "      <td>Восточный административный округ</td>\n",
       "      <td>58701964</td>\n",
       "      <td>район Измайлово</td>\n",
       "      <td>действует</td>\n",
       "      <td>41</td>\n",
       "    </tr>\n",
       "    <tr>\n",
       "      <th>3</th>\n",
       "      <td>Калужская</td>\n",
       "      <td>Калужско-Рижская линия</td>\n",
       "      <td>Юго-Западный административный округ</td>\n",
       "      <td>58701965</td>\n",
       "      <td>Обручевский район</td>\n",
       "      <td>действует</td>\n",
       "      <td>104</td>\n",
       "    </tr>\n",
       "    <tr>\n",
       "      <th>4</th>\n",
       "      <td>Каховская</td>\n",
       "      <td>Третий Пересадочный контур</td>\n",
       "      <td>Юго-Западный административный округ</td>\n",
       "      <td>58701966</td>\n",
       "      <td>район Зюзино</td>\n",
       "      <td>строится</td>\n",
       "      <td>251</td>\n",
       "    </tr>\n",
       "  </tbody>\n",
       "</table>\n",
       "</div>"
      ],
      "text/plain": [
       "  Наименование станции          Наименование линии  \\\n",
       "0        Третьяковская           Калининская линия   \n",
       "1           Медведково      Калужско-Рижская линия   \n",
       "2         Первомайская   Арбатско-Покровская линия   \n",
       "3            Калужская      Калужско-Рижская линия   \n",
       "4            Каховская  Третий Пересадочный контур   \n",
       "\n",
       "                    Административный округ  global_id  \\\n",
       "0       Центральный административный округ   58701962   \n",
       "1  Северо-Восточный административный округ   58701963   \n",
       "2         Восточный административный округ   58701964   \n",
       "3      Юго-Западный административный округ   58701965   \n",
       "4      Юго-Западный административный округ   58701966   \n",
       "\n",
       "                       Район     Статус  Код  \n",
       "0        район Замоскворечье  действует  136  \n",
       "1  район Северное Медведково  действует   86  \n",
       "2            район Измайлово  действует   41  \n",
       "3          Обручевский район  действует  104  \n",
       "4               район Зюзино   строится  251  "
      ]
     },
     "execution_count": 81,
     "metadata": {},
     "output_type": "execute_result"
    }
   ],
   "source": [
    "import pandas as pd\n",
    "\n",
    "pd.read_excel('data-6467-2017-12-24.xlsx').head()"
   ]
  }
 ],
 "metadata": {
  "celltoolbar": "Slideshow",
  "kernelspec": {
   "display_name": "Python 3",
   "language": "python",
   "name": "python3"
  },
  "language_info": {
   "codemirror_mode": {
    "name": "ipython",
    "version": 3
   },
   "file_extension": ".py",
   "mimetype": "text/x-python",
   "name": "python",
   "nbconvert_exporter": "python",
   "pygments_lexer": "ipython3",
   "version": "3.6.4"
  },
  "livereveal": {
   "theme": "white",
   "transition": "fade-in"
  }
 },
 "nbformat": 4,
 "nbformat_minor": 2
}
